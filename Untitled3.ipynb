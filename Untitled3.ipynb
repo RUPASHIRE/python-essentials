{
  "nbformat": 4,
  "nbformat_minor": 0,
  "metadata": {
    "colab": {
      "name": "Untitled3.ipynb",
      "provenance": []
    },
    "kernelspec": {
      "name": "python3",
      "display_name": "Python 3"
    }
  },
  "cells": [
    {
      "cell_type": "code",
      "metadata": {
        "id": "oqdCfwg3Asy1",
        "colab_type": "code",
        "colab": {}
      },
      "source": [
        ""
      ],
      "execution_count": null,
      "outputs": []
    },
    {
      "cell_type": "markdown",
      "metadata": {
        "id": "rqTTTmH_Ct9Z",
        "colab_type": "text"
      },
      "source": [
        "Question 1"
      ]
    },
    {
      "cell_type": "code",
      "metadata": {
        "id": "zuvwpZoyCwyk",
        "colab_type": "code",
        "colab": {
          "base_uri": "https://localhost:8080/",
          "height": 52
        },
        "outputId": "722bedb8-7ae9-4a0e-a9e8-1bb6c9099227"
      },
      "source": [
        "alt=int(input(\"Enter the altitude:\"))\n",
        "if alt<=1000:\n",
        "  print(\"Land the plane\")\n",
        "elif alt>1000 and alt<5000:\n",
        "  print(\"Bring down to 1000\")\n",
        "else :\n",
        "  print(\"Turn around and try later\")"
      ],
      "execution_count": 1,
      "outputs": [
        {
          "output_type": "stream",
          "text": [
            "Enter the altitude:66\n",
            "Land the plane\n"
          ],
          "name": "stdout"
        }
      ]
    },
    {
      "cell_type": "code",
      "metadata": {
        "id": "PMZsSvjoC9xk",
        "colab_type": "code",
        "colab": {
          "base_uri": "https://localhost:8080/",
          "height": 52
        },
        "outputId": "7b773811-a569-4bb5-8d49-a9de23595cec"
      },
      "source": [
        "alt=int(input(\"Enter the altitude:\"))\n",
        "if alt<=1000:\n",
        "  print(\"Land the plane\")\n",
        "elif alt>1000 and alt<5000:\n",
        "  print(\"Bring down to 1000\")\n",
        "else :\n",
        "  print(\"Turn around and try later\")"
      ],
      "execution_count": 3,
      "outputs": [
        {
          "output_type": "stream",
          "text": [
            "Enter the altitude:5000\n",
            "Turn around and try later\n"
          ],
          "name": "stdout"
        }
      ]
    },
    {
      "cell_type": "code",
      "metadata": {
        "id": "2pOTmgi2DPr9",
        "colab_type": "code",
        "colab": {
          "base_uri": "https://localhost:8080/",
          "height": 52
        },
        "outputId": "433bb39e-8c6a-4524-9853-981ab497550c"
      },
      "source": [
        "alt=int(input(\"Enter the altitude:\"))\n",
        "if alt<=1000:\n",
        "  print(\"Land the plane\")\n",
        "elif alt>1000 and alt<5000:\n",
        "  print(\"Bring down to 1000\")\n",
        "else :\n",
        "  print(\"Turn around and try later\")"
      ],
      "execution_count": 4,
      "outputs": [
        {
          "output_type": "stream",
          "text": [
            "Enter the altitude:10000\n",
            "Turn around and try later\n"
          ],
          "name": "stdout"
        }
      ]
    },
    {
      "cell_type": "code",
      "metadata": {
        "id": "D1uy7KFdDYPj",
        "colab_type": "code",
        "colab": {
          "base_uri": "https://localhost:8080/",
          "height": 1000
        },
        "outputId": "47df38d4-a0c1-48b9-b6d6-82fdd08457b2"
      },
      "source": [
        "\n",
        "\n",
        "for i in range(1,200):\n",
        "  if i%2!=0:\n",
        "    print(i)\n",
        "\n"
      ],
      "execution_count": 5,
      "outputs": [
        {
          "output_type": "stream",
          "text": [
            "1\n",
            "3\n",
            "5\n",
            "7\n",
            "9\n",
            "11\n",
            "13\n",
            "15\n",
            "17\n",
            "19\n",
            "21\n",
            "23\n",
            "25\n",
            "27\n",
            "29\n",
            "31\n",
            "33\n",
            "35\n",
            "37\n",
            "39\n",
            "41\n",
            "43\n",
            "45\n",
            "47\n",
            "49\n",
            "51\n",
            "53\n",
            "55\n",
            "57\n",
            "59\n",
            "61\n",
            "63\n",
            "65\n",
            "67\n",
            "69\n",
            "71\n",
            "73\n",
            "75\n",
            "77\n",
            "79\n",
            "81\n",
            "83\n",
            "85\n",
            "87\n",
            "89\n",
            "91\n",
            "93\n",
            "95\n",
            "97\n",
            "99\n",
            "101\n",
            "103\n",
            "105\n",
            "107\n",
            "109\n",
            "111\n",
            "113\n",
            "115\n",
            "117\n",
            "119\n",
            "121\n",
            "123\n",
            "125\n",
            "127\n",
            "129\n",
            "131\n",
            "133\n",
            "135\n",
            "137\n",
            "139\n",
            "141\n",
            "143\n",
            "145\n",
            "147\n",
            "149\n",
            "151\n",
            "153\n",
            "155\n",
            "157\n",
            "159\n",
            "161\n",
            "163\n",
            "165\n",
            "167\n",
            "169\n",
            "171\n",
            "173\n",
            "175\n",
            "177\n",
            "179\n",
            "181\n",
            "183\n",
            "185\n",
            "187\n",
            "189\n",
            "191\n",
            "193\n",
            "195\n",
            "197\n",
            "199\n"
          ],
          "name": "stdout"
        }
      ]
    }
  ]
}