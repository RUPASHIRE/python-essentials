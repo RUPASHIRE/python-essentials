{
  "nbformat": 4,
  "nbformat_minor": 0,
  "metadata": {
    "colab": {
      "name": "Untitled4.ipynb",
      "provenance": []
    },
    "kernelspec": {
      "name": "python3",
      "display_name": "Python 3"
    }
  },
  "cells": [
    {
      "cell_type": "code",
      "metadata": {
        "id": "QDIVotQFEJWu",
        "colab_type": "code",
        "colab": {
          "base_uri": "https://localhost:8080/",
          "height": 191
        },
        "outputId": "3c2586a4-9334-4885-a1a0-471aa50d8981"
      },
      "source": [
        "a=1042000\n",
        "b=70264867895\n",
        "for i in range(a,b+1):\n",
        "   order= len(str(i))\n",
        "   sum=0\n",
        "   c=i\n",
        "   while c>0:\n",
        "     d=c%10\n",
        "     sum += d**order\n",
        "     c//=10\n",
        "   if i==sum:\n",
        "     print(i)"
      ],
      "execution_count": null,
      "outputs": [
        {
          "output_type": "stream",
          "text": [
            "1741725\n",
            "4210818\n",
            "9800817\n",
            "9926315\n",
            "24678050\n",
            "24678051\n",
            "88593477\n",
            "146511208\n",
            "472335975\n",
            "534494836\n"
          ],
          "name": "stdout"
        }
      ]
    }
  ]
}